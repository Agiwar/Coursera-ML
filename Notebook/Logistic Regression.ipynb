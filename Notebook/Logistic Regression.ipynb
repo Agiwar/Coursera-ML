{
 "cells": [
  {
   "cell_type": "code",
   "execution_count": 1,
   "metadata": {
    "collapsed": true
   },
   "outputs": [],
   "source": [
    "import numpy as np\n",
    "import pandas as pd\n",
    "import matplotlib.pyplot as plt\n",
    "from scipy import optimize  # 最佳化成本函數\n",
    "from sklearn import preprocessing  # feature mapping（將原有的特徵複雜化）\n",
    "%matplotlib inline"
   ]
  },
  {
   "cell_type": "markdown",
   "metadata": {},
   "source": [
    "## Define General Function"
   ]
  },
  {
   "cell_type": "code",
   "execution_count": 2,
   "metadata": {
    "collapsed": true
   },
   "outputs": [],
   "source": [
    "def loadData(file, column_name):\n",
    "    data = pd.read_csv(file, header=None, names=column_name)\n",
    "    print (data.shape)\n",
    "    return (data)"
   ]
  },
  {
   "cell_type": "code",
   "execution_count": 37,
   "metadata": {
    "collapsed": true
   },
   "outputs": [],
   "source": [
    "def plotData(data, x1_label, x2_label, pos_legend, neg_legend):\n",
    "    x_pos = data.loc[data['Label']==1, data.columns[0]]\n",
    "    y_pos = data.loc[data['Label']==1, data.columns[1]]\n",
    "    x_neg = data.loc[data['Label']==0, data.columns[0]]\n",
    "    y_neg = data.loc[data['Label']==0, data.columns[1]]\n",
    "    plt.scatter(x_pos, y_pos, marker='o', color='blue', label=pos_legend)\n",
    "    plt.scatter(x_neg, y_neg, marker='x', color='red', label=neg_legend)\n",
    "    plt.xlabel(x1_label)\n",
    "    plt.ylabel(x2_label)\n",
    "    plt.legend()"
   ]
  },
  {
   "cell_type": "markdown",
   "metadata": {},
   "source": [
    "## Logistic Regression"
   ]
  },
  {
   "cell_type": "markdown",
   "metadata": {},
   "source": [
    "### Read in Data"
   ]
  },
  {
   "cell_type": "code",
   "execution_count": 4,
   "metadata": {
    "collapsed": false
   },
   "outputs": [
    {
     "name": "stdout",
     "output_type": "stream",
     "text": [
      "(100, 3)\n"
     ]
    },
    {
     "data": {
      "text/html": [
       "<div>\n",
       "<style>\n",
       "    .dataframe thead tr:only-child th {\n",
       "        text-align: right;\n",
       "    }\n",
       "\n",
       "    .dataframe thead th {\n",
       "        text-align: left;\n",
       "    }\n",
       "\n",
       "    .dataframe tbody tr th {\n",
       "        vertical-align: top;\n",
       "    }\n",
       "</style>\n",
       "<table border=\"1\" class=\"dataframe\">\n",
       "  <thead>\n",
       "    <tr style=\"text-align: right;\">\n",
       "      <th></th>\n",
       "      <th>Exam 1 score</th>\n",
       "      <th>Exam 2 score</th>\n",
       "      <th>Label</th>\n",
       "    </tr>\n",
       "  </thead>\n",
       "  <tbody>\n",
       "    <tr>\n",
       "      <th>0</th>\n",
       "      <td>34.623660</td>\n",
       "      <td>78.024693</td>\n",
       "      <td>0</td>\n",
       "    </tr>\n",
       "    <tr>\n",
       "      <th>1</th>\n",
       "      <td>30.286711</td>\n",
       "      <td>43.894998</td>\n",
       "      <td>0</td>\n",
       "    </tr>\n",
       "    <tr>\n",
       "      <th>2</th>\n",
       "      <td>35.847409</td>\n",
       "      <td>72.902198</td>\n",
       "      <td>0</td>\n",
       "    </tr>\n",
       "    <tr>\n",
       "      <th>3</th>\n",
       "      <td>60.182599</td>\n",
       "      <td>86.308552</td>\n",
       "      <td>1</td>\n",
       "    </tr>\n",
       "    <tr>\n",
       "      <th>4</th>\n",
       "      <td>79.032736</td>\n",
       "      <td>75.344376</td>\n",
       "      <td>1</td>\n",
       "    </tr>\n",
       "    <tr>\n",
       "      <th>5</th>\n",
       "      <td>45.083277</td>\n",
       "      <td>56.316372</td>\n",
       "      <td>0</td>\n",
       "    </tr>\n",
       "    <tr>\n",
       "      <th>6</th>\n",
       "      <td>61.106665</td>\n",
       "      <td>96.511426</td>\n",
       "      <td>1</td>\n",
       "    </tr>\n",
       "    <tr>\n",
       "      <th>7</th>\n",
       "      <td>75.024746</td>\n",
       "      <td>46.554014</td>\n",
       "      <td>1</td>\n",
       "    </tr>\n",
       "    <tr>\n",
       "      <th>8</th>\n",
       "      <td>76.098787</td>\n",
       "      <td>87.420570</td>\n",
       "      <td>1</td>\n",
       "    </tr>\n",
       "    <tr>\n",
       "      <th>9</th>\n",
       "      <td>84.432820</td>\n",
       "      <td>43.533393</td>\n",
       "      <td>1</td>\n",
       "    </tr>\n",
       "  </tbody>\n",
       "</table>\n",
       "</div>"
      ],
      "text/plain": [
       "   Exam 1 score  Exam 2 score  Label\n",
       "0     34.623660     78.024693      0\n",
       "1     30.286711     43.894998      0\n",
       "2     35.847409     72.902198      0\n",
       "3     60.182599     86.308552      1\n",
       "4     79.032736     75.344376      1\n",
       "5     45.083277     56.316372      0\n",
       "6     61.106665     96.511426      1\n",
       "7     75.024746     46.554014      1\n",
       "8     76.098787     87.420570      1\n",
       "9     84.432820     43.533393      1"
      ]
     },
     "execution_count": 4,
     "metadata": {},
     "output_type": "execute_result"
    }
   ],
   "source": [
    "data = loadData('ex2/ex2data1.txt', column_name=['Exam 1 score', 'Exam 2 score', 'Label'])\n",
    "data.head(10)"
   ]
  },
  {
   "cell_type": "markdown",
   "metadata": {},
   "source": [
    "### Plot Data"
   ]
  },
  {
   "cell_type": "code",
   "execution_count": 5,
   "metadata": {
    "collapsed": false,
    "scrolled": true
   },
   "outputs": [
    {
     "data": {
      "text/plain": [
       "<matplotlib.figure.Figure at 0x108426cc0>"
      ]
     },
     "metadata": {},
     "output_type": "display_data"
    },
    {
     "data": {
      "image/png": "[encoded data removed]",
      "text/plain": [
       "<matplotlib.figure.Figure at 0x108426ac8>"
      ]
     },
     "metadata": {},
     "output_type": "display_data"
    }
   ],
   "source": [
    "plt.figure(figsize=(8,5))\n",
    "plotData(data, x1_label='Exam 1 score', x2_label='Exam 1 score', pos_legend='Admitted', neg_legend='Not admitted')"
   ]
  },
  {
   "cell_type": "markdown",
   "metadata": {},
   "source": [
    "### Logistic Hypothesis"
   ]
  },
  {
   "cell_type": "code",
   "execution_count": 6,
   "metadata": {
    "collapsed": true
   },
   "outputs": [],
   "source": [
    "def sigmoid(z):\n",
    "    g = 1 / (1 + np.exp(-z))\n",
    "    return (g)\n",
    "\n",
    "def h(theta, X):\n",
    "    hypothesis = sigmoid(np.dot(X, theta))\n",
    "    return (hypothesis)"
   ]
  },
  {
   "cell_type": "markdown",
   "metadata": {},
   "source": [
    "### Cost Function & Optimize Theta"
   ]
  },
  {
   "cell_type": "markdown",
   "metadata": {},
   "source": [
    "#### Dataset"
   ]
  },
  {
   "cell_type": "code",
   "execution_count": 7,
   "metadata": {
    "collapsed": true,
    "scrolled": true
   },
   "outputs": [],
   "source": [
    "# dimension of feature data\n",
    "m, n = data.iloc[:, 0:2].shape\n",
    "\n",
    "# feature matrix X and response vector y\n",
    "X0 = pd.DataFrame(np.ones([m, 1]))  # X0=1 is added\n",
    "X = pd.concat([X0, data.iloc[:, 0:2]], axis=1)\n",
    "y = data.Label.values.reshape(m, 1)"
   ]
  },
  {
   "cell_type": "markdown",
   "metadata": {},
   "source": [
    "#### Cost Function"
   ]
  },
  {
   "cell_type": "code",
   "execution_count": 8,
   "metadata": {
    "collapsed": true
   },
   "outputs": [],
   "source": [
    "def computeCost(theta, X, y):\n",
    "    J = (-1/m) * ((np.dot(y.T, np.log(h(theta, X)))) + np.dot((1-y).T, np.log(1-h(theta, X))))\n",
    "    return (J)"
   ]
  },
  {
   "cell_type": "code",
   "execution_count": 9,
   "metadata": {
    "collapsed": false
   },
   "outputs": [
    {
     "name": "stdout",
     "output_type": "stream",
     "text": [
      "initial cost : 0.693147\n"
     ]
    }
   ],
   "source": [
    "theta_init = np.zeros([n+1, 1])  # theta is a vector with n+1 rows and 1 columns(if X has n features, X0=1 is added)\n",
    "print('initial cost : %f'%(computeCost(theta_init, X, y)))"
   ]
  },
  {
   "cell_type": "markdown",
   "metadata": {},
   "source": [
    "#### Gradient"
   ]
  },
  {
   "cell_type": "code",
   "execution_count": 10,
   "metadata": {
    "collapsed": true
   },
   "outputs": [],
   "source": [
    "def gradient(theta, X, y):\n",
    "    m = y.size\n",
    "    grad = (1/m) * np.dot(X.T, (h(theta, X) - y))\n",
    "    return (grad)"
   ]
  },
  {
   "cell_type": "code",
   "execution_count": 11,
   "metadata": {
    "collapsed": false
   },
   "outputs": [
    {
     "data": {
      "text/plain": [
       "array([[ -0.1       ],\n",
       "       [-12.00921659],\n",
       "       [-11.26284221]])"
      ]
     },
     "execution_count": 11,
     "metadata": {},
     "output_type": "execute_result"
    }
   ],
   "source": [
    "gradient(theta_init, X, y)"
   ]
  },
  {
   "cell_type": "markdown",
   "metadata": {},
   "source": [
    "#### Optimize Theta"
   ]
  },
  {
   "cell_type": "code",
   "execution_count": 12,
   "metadata": {
    "collapsed": true
   },
   "outputs": [],
   "source": [
    "def optimizeTheta(theta, X, y):\n",
    "    result = optimize.fmin(computeCost, x0=theta, args=(X, y), maxiter=400, full_output=True)\n",
    "    return (result[0].reshape(-1,1))"
   ]
  },
  {
   "cell_type": "code",
   "execution_count": 13,
   "metadata": {
    "collapsed": false
   },
   "outputs": [
    {
     "name": "stdout",
     "output_type": "stream",
     "text": [
      "Optimization terminated successfully.\n",
      "         Current function value: 0.203498\n",
      "         Iterations: 157\n",
      "         Function evaluations: 287\n"
     ]
    },
    {
     "data": {
      "text/plain": [
       "array([[-25.16130062],\n",
       "       [  0.20623142],\n",
       "       [  0.20147143]])"
      ]
     },
     "execution_count": 13,
     "metadata": {},
     "output_type": "execute_result"
    }
   ],
   "source": [
    "optTheta = optimizeTheta(theta_init, X, y)\n",
    "optTheta"
   ]
  },
  {
   "cell_type": "markdown",
   "metadata": {},
   "source": [
    "### Predict and Accuracy"
   ]
  },
  {
   "cell_type": "markdown",
   "metadata": {},
   "source": [
    "#### Predict"
   ]
  },
  {
   "cell_type": "code",
   "execution_count": 14,
   "metadata": {
    "collapsed": true
   },
   "outputs": [],
   "source": [
    "def predict(theta, X, threshold=0.5):\n",
    "    X.insert(0, 1)\n",
    "    X = np.array(X).reshape(-1, n+1)\n",
    "    probability = h(theta, X)\n",
    "    if probability >= threshold:\n",
    "        print('Admitted')\n",
    "        print('Probability : %.2f'%(probability))\n",
    "    else:\n",
    "        print('Not admitted')\n",
    "        print('Probability : %.2f'%(probability))\n",
    "    return"
   ]
  },
  {
   "cell_type": "code",
   "execution_count": 15,
   "metadata": {
    "collapsed": false
   },
   "outputs": [
    {
     "name": "stdout",
     "output_type": "stream",
     "text": [
      "Admitted\n",
      "Probability : 0.78\n"
     ]
    }
   ],
   "source": [
    "predict(optTheta, [45, 85])"
   ]
  },
  {
   "cell_type": "markdown",
   "metadata": {},
   "source": [
    "#### Accuracy"
   ]
  },
  {
   "cell_type": "code",
   "execution_count": 16,
   "metadata": {
    "collapsed": true
   },
   "outputs": [],
   "source": [
    "def accuracy(theta, X, threshold=0.5):\n",
    "    probability = h(theta, X) >= threshold\n",
    "    classify = probability.astype('int')\n",
    "    accuracy = np.sum((classify == y) / classify.size)\n",
    "    print('Accuracy : %.2f'%(accuracy))\n",
    "    return"
   ]
  },
  {
   "cell_type": "code",
   "execution_count": 17,
   "metadata": {
    "collapsed": false
   },
   "outputs": [
    {
     "name": "stdout",
     "output_type": "stream",
     "text": [
      "Accuracy : 0.89\n"
     ]
    }
   ],
   "source": [
    "accuracy(optTheta, X)"
   ]
  },
  {
   "cell_type": "markdown",
   "metadata": {},
   "source": [
    "### Decision Boundary"
   ]
  },
  {
   "cell_type": "code",
   "execution_count": 18,
   "metadata": {
    "collapsed": false
   },
   "outputs": [],
   "source": [
    "x1_min, x1_max = min(X.iloc[:, 1]), max(X.iloc[:, 1])\n",
    "x2_min, x2_max = min(X.iloc[:, 2]), max(X.iloc[:, 2])\n",
    "xx1, xx2 = np.meshgrid(np.linspace(x1_min, x1_max), np.linspace(x2_min, x2_max))\n",
    "xx = np.array([np.ones(xx1.ravel().shape), xx1.ravel(), xx2.ravel()]).T\n",
    "hypothesis = h(optTheta, xx).reshape(xx1.shape)"
   ]
  },
  {
   "cell_type": "code",
   "execution_count": 19,
   "metadata": {
    "collapsed": false
   },
   "outputs": [
    {
     "data": {
      "text/plain": [
       "<matplotlib.legend.Legend at 0x1129034e0>"
      ]
     },
     "execution_count": 19,
     "metadata": {},
     "output_type": "execute_result"
    },
    {
     "data": {
      "text/plain": [
       "<matplotlib.figure.Figure at 0x11265bf28>"
      ]
     },
     "metadata": {},
     "output_type": "display_data"
    },
    {
     "data": {
      "image/png": "[encoded data removed]",
      "text/plain": [
       "<matplotlib.figure.Figure at 0x11265b780>"
      ]
     },
     "metadata": {},
     "output_type": "display_data"
    }
   ],
   "source": [
    "plt.figure(figsize=(8,5))\n",
    "plotData(data, x1_label='Exam 1 score', x2_label='Exam 1 score', pos_legend='Admitted', neg_legend='Not admitted')\n",
    "plt.scatter(45, 85, s=60, color='purple', marker='*', label='(45, 85)')\n",
    "plt.contour(xx1, xx2, hypothesis, [0.5], linewidths=1, colors='green');\n",
    "plt.legend()"
   ]
  },
  {
   "cell_type": "markdown",
   "metadata": {},
   "source": [
    "## Regularized Logistic Regression"
   ]
  },
  {
   "cell_type": "markdown",
   "metadata": {},
   "source": [
    "### Read in Data"
   ]
  },
  {
   "cell_type": "code",
   "execution_count": 20,
   "metadata": {
    "collapsed": false
   },
   "outputs": [
    {
     "name": "stdout",
     "output_type": "stream",
     "text": [
      "(118, 3)\n"
     ]
    },
    {
     "data": {
      "text/html": [
       "<div>\n",
       "<style>\n",
       "    .dataframe thead tr:only-child th {\n",
       "        text-align: right;\n",
       "    }\n",
       "\n",
       "    .dataframe thead th {\n",
       "        text-align: left;\n",
       "    }\n",
       "\n",
       "    .dataframe tbody tr th {\n",
       "        vertical-align: top;\n",
       "    }\n",
       "</style>\n",
       "<table border=\"1\" class=\"dataframe\">\n",
       "  <thead>\n",
       "    <tr style=\"text-align: right;\">\n",
       "      <th></th>\n",
       "      <th>Microchip Test 1</th>\n",
       "      <th>Microchip Test 2</th>\n",
       "      <th>Label</th>\n",
       "    </tr>\n",
       "  </thead>\n",
       "  <tbody>\n",
       "    <tr>\n",
       "      <th>0</th>\n",
       "      <td>0.051267</td>\n",
       "      <td>0.699560</td>\n",
       "      <td>1</td>\n",
       "    </tr>\n",
       "    <tr>\n",
       "      <th>1</th>\n",
       "      <td>-0.092742</td>\n",
       "      <td>0.684940</td>\n",
       "      <td>1</td>\n",
       "    </tr>\n",
       "    <tr>\n",
       "      <th>2</th>\n",
       "      <td>-0.213710</td>\n",
       "      <td>0.692250</td>\n",
       "      <td>1</td>\n",
       "    </tr>\n",
       "    <tr>\n",
       "      <th>3</th>\n",
       "      <td>-0.375000</td>\n",
       "      <td>0.502190</td>\n",
       "      <td>1</td>\n",
       "    </tr>\n",
       "    <tr>\n",
       "      <th>4</th>\n",
       "      <td>-0.513250</td>\n",
       "      <td>0.465640</td>\n",
       "      <td>1</td>\n",
       "    </tr>\n",
       "    <tr>\n",
       "      <th>5</th>\n",
       "      <td>-0.524770</td>\n",
       "      <td>0.209800</td>\n",
       "      <td>1</td>\n",
       "    </tr>\n",
       "    <tr>\n",
       "      <th>6</th>\n",
       "      <td>-0.398040</td>\n",
       "      <td>0.034357</td>\n",
       "      <td>1</td>\n",
       "    </tr>\n",
       "    <tr>\n",
       "      <th>7</th>\n",
       "      <td>-0.305880</td>\n",
       "      <td>-0.192250</td>\n",
       "      <td>1</td>\n",
       "    </tr>\n",
       "    <tr>\n",
       "      <th>8</th>\n",
       "      <td>0.016705</td>\n",
       "      <td>-0.404240</td>\n",
       "      <td>1</td>\n",
       "    </tr>\n",
       "    <tr>\n",
       "      <th>9</th>\n",
       "      <td>0.131910</td>\n",
       "      <td>-0.513890</td>\n",
       "      <td>1</td>\n",
       "    </tr>\n",
       "  </tbody>\n",
       "</table>\n",
       "</div>"
      ],
      "text/plain": [
       "   Microchip Test 1  Microchip Test 2  Label\n",
       "0          0.051267          0.699560      1\n",
       "1         -0.092742          0.684940      1\n",
       "2         -0.213710          0.692250      1\n",
       "3         -0.375000          0.502190      1\n",
       "4         -0.513250          0.465640      1\n",
       "5         -0.524770          0.209800      1\n",
       "6         -0.398040          0.034357      1\n",
       "7         -0.305880         -0.192250      1\n",
       "8          0.016705         -0.404240      1\n",
       "9          0.131910         -0.513890      1"
      ]
     },
     "execution_count": 20,
     "metadata": {},
     "output_type": "execute_result"
    }
   ],
   "source": [
    "data2 = loadData('ex2/ex2data2.txt', column_name=['Microchip Test 1', 'Microchip Test 2', 'Label'])\n",
    "data2.head(10)"
   ]
  },
  {
   "cell_type": "markdown",
   "metadata": {},
   "source": [
    "### Plot Data"
   ]
  },
  {
   "cell_type": "code",
   "execution_count": 21,
   "metadata": {
    "collapsed": false
   },
   "outputs": [
    {
     "data": {
      "text/plain": [
       "<matplotlib.figure.Figure at 0x11265beb8>"
      ]
     },
     "metadata": {},
     "output_type": "display_data"
    },
    {
     "data": {
      "image/png": "[encoded data removed]",
      "text/plain": [
       "<matplotlib.figure.Figure at 0x112874d68>"
      ]
     },
     "metadata": {},
     "output_type": "display_data"
    }
   ],
   "source": [
    "plt.figure(figsize=(6,6))\n",
    "plotData(data2, x1_label='Microchip Test 1', x2_label='Microchip Test 2', pos_legend='y = 1', neg_legend='y = 0')"
   ]
  },
  {
   "cell_type": "markdown",
   "metadata": {},
   "source": [
    "### Feature Mapping"
   ]
  },
  {
   "cell_type": "code",
   "execution_count": 22,
   "metadata": {
    "collapsed": false
   },
   "outputs": [
    {
     "data": {
      "text/plain": [
       "(118, 28)"
      ]
     },
     "execution_count": 22,
     "metadata": {},
     "output_type": "execute_result"
    }
   ],
   "source": [
    "# This function inserts a column with 'ones' in the design matrix for the intercept, we don't need to add x0=1.\n",
    "# e.g., if input = [a, b], the degree-2 polynomial features are [1, a, b, a^2, ab, b^2]\n",
    "poly = preprocessing.PolynomialFeatures(degree=6, include_bias=True)\n",
    "X2 = poly.fit_transform(data2.iloc[:, 0:2])\n",
    "\n",
    "# Now feature matrix is 28-dimensional matrix (2-dimensional originally)\n",
    "X2.shape"
   ]
  },
  {
   "cell_type": "markdown",
   "metadata": {},
   "source": [
    "### Cost Function & Optimize Theta with Regularization"
   ]
  },
  {
   "cell_type": "markdown",
   "metadata": {},
   "source": [
    "#### Cost Function with Regularization (assume lambda = 1)"
   ]
  },
  {
   "cell_type": "code",
   "execution_count": 23,
   "metadata": {
    "collapsed": true
   },
   "outputs": [],
   "source": [
    "m2, n2 = X2.shape\n",
    "y2 = data2.Label.values.reshape(-1, 1) # reshape(m2, 1)"
   ]
  },
  {
   "cell_type": "code",
   "execution_count": 24,
   "metadata": {
    "collapsed": true
   },
   "outputs": [],
   "source": [
    "def computeCostReg(theta, X, y, lambdaConstant):\n",
    "    reg_term = (lambdaConstant/2/m2) * np.sum(theta[1:]**2)  # theta正規化，theta_0 is neglected\n",
    "    J = (-1/m2)* (np.dot(y.T, np.log(h(theta, X))) + np.dot((1-y).T, np.log(1-h(theta, X)))) + reg_term\n",
    "    return (J)"
   ]
  },
  {
   "cell_type": "code",
   "execution_count": 25,
   "metadata": {
    "collapsed": false
   },
   "outputs": [
    {
     "name": "stdout",
     "output_type": "stream",
     "text": [
      "initial cost with regularization : 0.693147\n"
     ]
    }
   ],
   "source": [
    "thetaReg_init = np.zeros([n2, 1])\n",
    "print('initial cost with regularization : %f'%(computeCostReg(thetaReg_init, X2, y2, lambdaConstant=1)))"
   ]
  },
  {
   "cell_type": "markdown",
   "metadata": {},
   "source": [
    "#### Optimize Theta with Regularization (assume lambda = 1)"
   ]
  },
  {
   "cell_type": "code",
   "execution_count": 26,
   "metadata": {
    "collapsed": true
   },
   "outputs": [],
   "source": [
    "# Since fmin couldn't converge, use minimum instead\n",
    "# Use Conjucate Gradient algorithms to find optimization theta\n",
    "\n",
    "def optimizeThetaReg(theta, X, y, lambdaConstant):\n",
    "    result = optimize.minimize(computeCostReg, x0=theta, args=(X, y.ravel(), lambdaConstant),  method='CG', \n",
    "                      options={\"maxiter\":500, \"disp\":False} )\n",
    "    return (result.x.reshape(-1,1))"
   ]
  },
  {
   "cell_type": "code",
   "execution_count": 27,
   "metadata": {
    "collapsed": false
   },
   "outputs": [
    {
     "data": {
      "text/plain": [
       "array([[ 1.27266761],\n",
       "       [ 0.62526228],\n",
       "       [ 1.18107055],\n",
       "       [-2.01966508],\n",
       "       [-0.91738767],\n",
       "       [-1.43138792],\n",
       "       [ 0.12403858],\n",
       "       [-0.36548582],\n",
       "       [-0.35730801],\n",
       "       [-0.17502918],\n",
       "       [-1.45821571],\n",
       "       [-0.05116374],\n",
       "       [-0.61566511],\n",
       "       [-0.27472224],\n",
       "       [-1.19279617],\n",
       "       [-0.24223996],\n",
       "       [-0.20599199],\n",
       "       [-0.04486624],\n",
       "       [-0.27778444],\n",
       "       [-0.29540446],\n",
       "       [-0.45645472],\n",
       "       [-1.04337381],\n",
       "       [ 0.02765882],\n",
       "       [-0.29249151],\n",
       "       [ 0.01547217],\n",
       "       [-0.32742904],\n",
       "       [-0.14392638],\n",
       "       [-0.92483604]])"
      ]
     },
     "execution_count": 27,
     "metadata": {},
     "output_type": "execute_result"
    }
   ],
   "source": [
    "optThetaReg = optimizeThetaReg(thetaReg_init, X2, y2, lambdaConstant=1)\n",
    "optThetaReg"
   ]
  },
  {
   "cell_type": "markdown",
   "metadata": {},
   "source": [
    "### Accuracy"
   ]
  },
  {
   "cell_type": "code",
   "execution_count": 28,
   "metadata": {
    "collapsed": true
   },
   "outputs": [],
   "source": [
    "def accuracyReg(theta, X, threshold=0.5):\n",
    "    probability = h(theta, X) >= threshold\n",
    "    classify = probability.astype('int')\n",
    "    accuracy = np.sum((classify == y2) / classify.size)\n",
    "    return(accuracy)"
   ]
  },
  {
   "cell_type": "code",
   "execution_count": 29,
   "metadata": {
    "collapsed": false
   },
   "outputs": [
    {
     "data": {
      "text/plain": [
       "0.83050847457627119"
      ]
     },
     "execution_count": 29,
     "metadata": {},
     "output_type": "execute_result"
    }
   ],
   "source": [
    "accuracyReg(optThetaReg, X2)"
   ]
  },
  {
   "cell_type": "markdown",
   "metadata": {},
   "source": [
    "### Decision Boundary"
   ]
  },
  {
   "cell_type": "code",
   "execution_count": 39,
   "metadata": {
    "collapsed": false
   },
   "outputs": [
    {
     "data": {
      "image/png": "[encoded data removed]",
      "text/plain": [
       "<matplotlib.figure.Figure at 0x113961e48>"
      ]
     },
     "metadata": {},
     "output_type": "display_data"
    }
   ],
   "source": [
    "x1Reg_min, x1Reg_max = min(data2.iloc[:, 0]), max(data2.iloc[:, 0])\n",
    "x2Reg_min, x2Reg_max = min(data2.iloc[:, 1]), max(data2.iloc[:, 1])\n",
    "xx1Reg, xx2Reg = np.meshgrid(np.linspace(x1Reg_min, x1Reg_max), np.linspace(x2Reg_min, x2Reg_max))\n",
    "xxReg = np.array([xx1Reg.ravel(), xx2Reg.ravel()]).T  # 無需再加bias term\n",
    "\n",
    "plt.figure(figsize=(18, 6), facecolor='w')\n",
    "for i, C in enumerate([0, 1, 100]):\n",
    "    optThetaReg = optimizeThetaReg(thetaReg_init, X2, y2, lambdaConstant=C)\n",
    "    hypothesisReg = h(optThetaReg, poly.fit_transform(xxReg)).reshape(xx1Reg.shape)\n",
    "    accuracy = accuracyReg(optThetaReg, X2)\n",
    "    plt.subplot(1,3,i+1)\n",
    "    plotData(data2, x1_label='Microchip Test 1', x2_label='Microchip Test 2', pos_legend='y = 1', neg_legend='y = 0')\n",
    "    plt.contour(xx1Reg, xx2Reg, hypothesisReg, [0.5], linewidths=1, colors='g');       \n",
    "    plt.title('Train Accuracy is %.2f with Lambda = %i'%(accuracy, C))"
   ]
  },
  {
   "cell_type": "code",
   "execution_count": null,
   "metadata": {
    "collapsed": true
   },
   "outputs": [],
   "source": []
  }
 ],
 "metadata": {
  "kernelspec": {
   "display_name": "Python 3",
   "language": "python",
   "name": "python3"
  },
  "language_info": {
   "codemirror_mode": {
    "name": "ipython",
    "version": 3
   },
   "file_extension": ".py",
   "mimetype": "text/x-python",
   "name": "python",
   "nbconvert_exporter": "python",
   "pygments_lexer": "ipython3",
   "version": "3.6.1"
  }
 },
 "nbformat": 4,
 "nbformat_minor": 2
}
